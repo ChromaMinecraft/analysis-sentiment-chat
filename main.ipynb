{
  "nbformat": 4,
  "nbformat_minor": 0,
  "metadata": {
    "colab": {
      "name": "Untitled0.ipynb",
      "provenance": [],
      "toc_visible": true,
      "authorship_tag": "ABX9TyNzYv1hQsN1rz8ZaI9W/s59",
      "include_colab_link": true
    },
    "kernelspec": {
      "name": "python3",
      "display_name": "Python 3"
    }
  },
  "cells": [
    {
      "cell_type": "markdown",
      "metadata": {
        "id": "view-in-github",
        "colab_type": "text"
      },
      "source": [
        "<a href=\"https://colab.research.google.com/github/ChromaMinecraft/analysis-sentiment-chat/blob/main/main.ipynb\" target=\"_parent\"><img src=\"https://colab.research.google.com/assets/colab-badge.svg\" alt=\"Open In Colab\"/></a>"
      ]
    },
    {
      "cell_type": "code",
      "metadata": {
        "id": "x6WQp4jQkgoN",
        "outputId": "cd04a479-da93-475a-872f-f9279a0e4a58",
        "colab": {
          "base_uri": "https://localhost:8080/",
          "height": 204
        }
      },
      "source": [
        "import pandas as pd\n",
        "\n",
        "# /((\\d\\])|(:) )/gm\n",
        "datas = pd.read_csv(\"chat.txt\", delimiter=\"\\n\")\n",
        "datas\n",
        "\n",
        "datas.head()"
      ],
      "execution_count": 28,
      "outputs": [
        {
          "output_type": "execute_result",
          "data": {
            "text/html": [
              "<div>\n",
              "<style scoped>\n",
              "    .dataframe tbody tr th:only-of-type {\n",
              "        vertical-align: middle;\n",
              "    }\n",
              "\n",
              "    .dataframe tbody tr th {\n",
              "        vertical-align: top;\n",
              "    }\n",
              "\n",
              "    .dataframe thead th {\n",
              "        text-align: right;\n",
              "    }\n",
              "</style>\n",
              "<table border=\"1\" class=\"dataframe\">\n",
              "  <thead>\n",
              "    <tr style=\"text-align: right;\">\n",
              "      <th></th>\n",
              "      <th>[08.10.2020 12:08:47] NixarCreeperM: Mayan gk lag.</th>\n",
              "    </tr>\n",
              "  </thead>\n",
              "  <tbody>\n",
              "    <tr>\n",
              "      <th>0</th>\n",
              "      <td>[08.10.2020 12:09:23] NixarCreeperM: Astaga di...</td>\n",
              "    </tr>\n",
              "    <tr>\n",
              "      <th>1</th>\n",
              "      <td>[08.10.2020 12:09:28] CarrotJuice20: Emang.</td>\n",
              "    </tr>\n",
              "    <tr>\n",
              "      <th>2</th>\n",
              "      <td>[08.10.2020 12:09:33] CarrotJuice20: a</td>\n",
              "    </tr>\n",
              "    <tr>\n",
              "      <th>3</th>\n",
              "      <td>[08.10.2020 12:09:39] CarrotJuice20: tes</td>\n",
              "    </tr>\n",
              "    <tr>\n",
              "      <th>4</th>\n",
              "      <td>[08.10.2020 12:09:44] NixarCreeperM: Gw maunya...</td>\n",
              "    </tr>\n",
              "  </tbody>\n",
              "</table>\n",
              "</div>"
            ],
            "text/plain": [
              "  [08.10.2020 12:08:47] NixarCreeperM: Mayan gk lag.\n",
              "0  [08.10.2020 12:09:23] NixarCreeperM: Astaga di...\n",
              "1        [08.10.2020 12:09:28] CarrotJuice20: Emang.\n",
              "2             [08.10.2020 12:09:33] CarrotJuice20: a\n",
              "3           [08.10.2020 12:09:39] CarrotJuice20: tes\n",
              "4  [08.10.2020 12:09:44] NixarCreeperM: Gw maunya..."
            ]
          },
          "metadata": {
            "tags": []
          },
          "execution_count": 28
        }
      ]
    }
  ]
}